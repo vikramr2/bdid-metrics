{
 "cells": [
  {
   "cell_type": "markdown",
   "metadata": {},
   "source": [
    "# Analyzing the Phosphoinositide 3-Kinase Research Network\n",
    "  \n",
    "Phosphoinositide 3-Kinase is an enzyme involved with cell growth and motility, and is involved in cancer. In this notebook we will be applying Bu et. al.'s metrics both relative to the research network surrounding PI-3K as well as the detected sub-communities within the research network. We hope to identify publications that play a central role in the growth of the field.\n",
    "\n",
    "# Data\n",
    "\n",
    "- PI3K Network: `/shared/pubmed/pi3k_pubmed_restricted_el.csv`\n",
    "- PI3K Node-ID to DOI Mappings: `/shared/pubmed/pmid_doi.csv`\n",
    "- PI3K Degree Distribution: `/shared/pubmed/pi3k_pubmed_restricted_nl_degree_counts.csv`"
   ]
  },
  {
   "cell_type": "code",
   "execution_count": null,
   "metadata": {},
   "outputs": [],
   "source": []
  }
 ],
 "metadata": {
  "language_info": {
   "name": "python"
  }
 },
 "nbformat": 4,
 "nbformat_minor": 2
}

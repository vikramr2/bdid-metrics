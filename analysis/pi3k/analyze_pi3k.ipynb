{
 "cells": [
  {
   "cell_type": "markdown",
   "metadata": {},
   "source": [
    "# Analyzing the Phosphoinositide 3-Kinase (PI3K) Research Network\n",
    "  \n",
    "Phosphoinositide 3-Kinase (PI3K) is an enzyme involved with cell growth and motility, and is involved in cancer. In this notebook we will be applying Bu et. al.'s metrics both relative to the research network surrounding PI-3K as well as the detected sub-communities within the research network. We hope to identify publications that play a central role in the growth of the field.\n",
    "\n",
    "# Data\n",
    "\n",
    "## Starting Data\n",
    "\n",
    "- PI3K Network: `/shared/pubmed/pi3k_pubmed_restricted_el.csv`\n",
    "- PI3K Node-ID to DOI Mappings: `/shared/pubmed/pmid_doi.csv`\n",
    "- PI3K Degree Distribution: `/shared/pubmed/pi3k_pubmed_restricted_nl_degree_counts.csv`\n",
    "\n",
    "## Processed Data\n",
    "\n",
    "- PI3K tsv Edgelist: `/shared/pubmed/pi3k_pubmed_restricted_el.tsv`\n",
    "- PI3K IKC-30 Clustering: `/shared/pubmed/data/pi3k_pubmed_ikc30.csv`\n",
    "- PI3K IKC-30 Reformatted Clustering: `/shared/pubmed/data/pi3k_pubmed_ikc30_reformatted.tsv`\n",
    "- PI3K IKC-30 Cluster Statistics: `/shared/pubmed/data/pi3k_pubmed_ikc30_stats.csv`\n",
    "\n",
    "**Collected During Notebook Runtime**\n",
    "\n",
    "- PI3K IKC-30 Densest Cluster: `/shared/pubmed/data/pi3k_k49_cluster1.tsv`\n",
    "- PI3K IKC-30 Densest Cluster BDID Metrics: `/shared/pubmed/data/networkit_bdid-pi3k-k49-cluster.csv`\n",
    "- PI3K IKC-30 Network BDID Metrics: `/shared/pubmed/data/networkit_bdid-pi3k-network.csv`\n",
    "\n",
    "# Pre-Processing Steps\n",
    "\n",
    "I did several things before this analysis.\n",
    "\n",
    "## Before Experiment I\n",
    "\n",
    "1. First I changed the edgelist from csv to tsv format. I used the script found in this repository at `formatting_scripts/format_pi3k.py`\n",
    "2. I removed the header by running `tail -n +2 pi3k_pubmed_restricted_el.tsv > pi3k_pubmed_restricted_el2.tsv`\n",
    "3. I deleted `pi3k_pubmed_restricted_el.tsv` and renamed `pi3k_pubmed_restricted_el2.tsv` to `pi3k_pubmed_restricted_el.tsv`\n",
    "4. Then, I clustered the tsv edgelist using IKC-30. I used the script `clustering_scripts/run_ikc.py`\n",
    "5. I reformatted the clustering to be a `node_id` `cluster_id` tsv by running `formatting_scripts/format_pi3k.py`\n",
    "6. Then I collected cluster statistics on the IKC-30 Clustering using [this reporting tool](https://github.com/illinois-or-research-analytics/cm_pipeline/blob/main/scripts/stats.py)."
   ]
  },
  {
   "cell_type": "markdown",
   "metadata": {},
   "source": [
    "# Experiment I\n",
    "\n",
    "## Finding the Densest K-Core Cluster\n",
    "\n",
    "First we collect an IKC-30 clustering. Then, we need to find the most dense clustering. Let's search for the cluster with the highest k value."
   ]
  },
  {
   "cell_type": "code",
   "execution_count": 1,
   "metadata": {},
   "outputs": [
    {
     "data": {
      "text/html": [
       "<div>\n",
       "<style scoped>\n",
       "    .dataframe tbody tr th:only-of-type {\n",
       "        vertical-align: middle;\n",
       "    }\n",
       "\n",
       "    .dataframe tbody tr th {\n",
       "        vertical-align: top;\n",
       "    }\n",
       "\n",
       "    .dataframe thead th {\n",
       "        text-align: right;\n",
       "    }\n",
       "</style>\n",
       "<table border=\"1\" class=\"dataframe\">\n",
       "  <thead>\n",
       "    <tr style=\"text-align: right;\">\n",
       "      <th></th>\n",
       "      <th>node_id</th>\n",
       "      <th>cluster_id</th>\n",
       "      <th>k-core</th>\n",
       "      <th>modularity</th>\n",
       "    </tr>\n",
       "  </thead>\n",
       "  <tbody>\n",
       "    <tr>\n",
       "      <th>0</th>\n",
       "      <td>18337270</td>\n",
       "      <td>1</td>\n",
       "      <td>49</td>\n",
       "      <td>1.0</td>\n",
       "    </tr>\n",
       "    <tr>\n",
       "      <th>1</th>\n",
       "      <td>31255140</td>\n",
       "      <td>1</td>\n",
       "      <td>49</td>\n",
       "      <td>1.0</td>\n",
       "    </tr>\n",
       "    <tr>\n",
       "      <th>2</th>\n",
       "      <td>22968725</td>\n",
       "      <td>1</td>\n",
       "      <td>49</td>\n",
       "      <td>1.0</td>\n",
       "    </tr>\n",
       "    <tr>\n",
       "      <th>3</th>\n",
       "      <td>18335787</td>\n",
       "      <td>1</td>\n",
       "      <td>49</td>\n",
       "      <td>1.0</td>\n",
       "    </tr>\n",
       "    <tr>\n",
       "      <th>4</th>\n",
       "      <td>18336071</td>\n",
       "      <td>1</td>\n",
       "      <td>49</td>\n",
       "      <td>1.0</td>\n",
       "    </tr>\n",
       "  </tbody>\n",
       "</table>\n",
       "</div>"
      ],
      "text/plain": [
       "    node_id  cluster_id  k-core  modularity\n",
       "0  18337270           1      49         1.0\n",
       "1  31255140           1      49         1.0\n",
       "2  22968725           1      49         1.0\n",
       "3  18335787           1      49         1.0\n",
       "4  18336071           1      49         1.0"
      ]
     },
     "execution_count": 1,
     "metadata": {},
     "output_type": "execute_result"
    }
   ],
   "source": [
    "import pandas as pd\n",
    "\n",
    "\n",
    "pi3k_k_vals = pd.read_csv(\n",
    "    '/shared/pubmed/data/pi3k_pubmed_ikc30.csv', \n",
    "    header=None, \n",
    "    names=[\n",
    "        'node_id',\n",
    "        'cluster_id',\n",
    "        'k-core',\n",
    "        'modularity'\n",
    "    ])\n",
    "pi3k_k_vals.head()"
   ]
  },
  {
   "cell_type": "code",
   "execution_count": 2,
   "metadata": {},
   "outputs": [
    {
     "name": "stdout",
     "output_type": "stream",
     "text": [
      "The max k value in pi3k's ikc clustering is 49\n"
     ]
    }
   ],
   "source": [
    "# Get the maximum value in column 3\n",
    "max_k = pi3k_k_vals.iloc[:, 2].max()\n",
    "print(f'The max k value in pi3k\\'s ikc clustering is {max_k}')"
   ]
  },
  {
   "cell_type": "markdown",
   "metadata": {},
   "source": [
    "It looks like we are looking at cluster 1 with a k value of 49 as our densest k-core cluster. Let's get stats on it."
   ]
  },
  {
   "cell_type": "code",
   "execution_count": 3,
   "metadata": {},
   "outputs": [
    {
     "data": {
      "text/plain": [
       "cluster                                      1\n",
       "n                                          506\n",
       "m                                        21478\n",
       "modularity                            0.000161\n",
       "connectivity                              49.0\n",
       "connectivity_normalized_log10(n)     18.120293\n",
       "connectivity_normalized_log2(n)       5.454752\n",
       "connectivity_normalized_sqrt(n)/5    10.891578\n",
       "conductance                           0.681165\n",
       "Name: 0, dtype: object"
      ]
     },
     "execution_count": 3,
     "metadata": {},
     "output_type": "execute_result"
    }
   ],
   "source": [
    "pi3k_cluster_stats = pd.read_csv('/shared/pubmed/data/pi3k_pubmed_ikc30_stats.csv')\n",
    "pi3k_cluster_stats.iloc[0]"
   ]
  },
  {
   "cell_type": "markdown",
   "metadata": {},
   "source": [
    "For Experiment I, we are analyzing:\n",
    "  \n",
    "**Cluster 1**\n",
    "- 506 nodes\n",
    "- 21478 edges\n",
    "\n",
    "## Extracting an Edge List from the Cluster\n",
    "\n",
    "Now that we have the cluster nodes, let's get an induced subgraph."
   ]
  },
  {
   "cell_type": "code",
   "execution_count": 4,
   "metadata": {},
   "outputs": [
    {
     "data": {
      "text/html": [
       "<div>\n",
       "<style scoped>\n",
       "    .dataframe tbody tr th:only-of-type {\n",
       "        vertical-align: middle;\n",
       "    }\n",
       "\n",
       "    .dataframe tbody tr th {\n",
       "        vertical-align: top;\n",
       "    }\n",
       "\n",
       "    .dataframe thead th {\n",
       "        text-align: right;\n",
       "    }\n",
       "</style>\n",
       "<table border=\"1\" class=\"dataframe\">\n",
       "  <thead>\n",
       "    <tr style=\"text-align: right;\">\n",
       "      <th></th>\n",
       "      <th>node_id</th>\n",
       "      <th>cluster_id</th>\n",
       "    </tr>\n",
       "  </thead>\n",
       "  <tbody>\n",
       "    <tr>\n",
       "      <th>0</th>\n",
       "      <td>18337270</td>\n",
       "      <td>1</td>\n",
       "    </tr>\n",
       "    <tr>\n",
       "      <th>1</th>\n",
       "      <td>31255140</td>\n",
       "      <td>1</td>\n",
       "    </tr>\n",
       "    <tr>\n",
       "      <th>2</th>\n",
       "      <td>22968725</td>\n",
       "      <td>1</td>\n",
       "    </tr>\n",
       "    <tr>\n",
       "      <th>3</th>\n",
       "      <td>18335787</td>\n",
       "      <td>1</td>\n",
       "    </tr>\n",
       "    <tr>\n",
       "      <th>4</th>\n",
       "      <td>18336071</td>\n",
       "      <td>1</td>\n",
       "    </tr>\n",
       "  </tbody>\n",
       "</table>\n",
       "</div>"
      ],
      "text/plain": [
       "    node_id  cluster_id\n",
       "0  18337270           1\n",
       "1  31255140           1\n",
       "2  22968725           1\n",
       "3  18335787           1\n",
       "4  18336071           1"
      ]
     },
     "execution_count": 4,
     "metadata": {},
     "output_type": "execute_result"
    }
   ],
   "source": [
    "pi3k_ikc30 = pd.read_csv(\n",
    "    '/shared/pubmed/data/pi3k_pubmed_ikc30_reformatted.tsv', \n",
    "    sep='\\t', \n",
    "    header=None,\n",
    "    names=[\n",
    "        'node_id',\n",
    "        'cluster_id'\n",
    "    ])\n",
    "\n",
    "pi3k_ikc30.head()"
   ]
  },
  {
   "cell_type": "code",
   "execution_count": 5,
   "metadata": {},
   "outputs": [],
   "source": [
    "# Let's get the nodelist of the k-49 cluster\n",
    "\n",
    "first_cluster = pi3k_ikc30[pi3k_ikc30.iloc[:, 1] == 1]\n",
    "first_cluster_nodes = first_cluster.iloc[:, 0].tolist()"
   ]
  },
  {
   "cell_type": "code",
   "execution_count": 6,
   "metadata": {},
   "outputs": [
    {
     "name": "stdout",
     "output_type": "stream",
     "text": [
      "pi3k has 133200394 edges and 12016106 nodes\n"
     ]
    }
   ],
   "source": [
    "# Load the PI3K network\n",
    "\n",
    "pi3k = pd.read_csv(\n",
    "    '/shared/pubmed/pi3k_pubmed_restricted_el.tsv', \n",
    "    sep='\\t', \n",
    "    header=None,\n",
    "    names=[\n",
    "        'from_node',\n",
    "        'to_node'\n",
    "    ])\n",
    "pi3k.head()\n",
    "\n",
    "pi3k_nedges = pi3k.shape[0]\n",
    "pi3k_nnodes = pi3k.nunique().sum()\n",
    "\n",
    "print(f'pi3k has {pi3k_nedges} edges and {pi3k_nnodes} nodes')"
   ]
  },
  {
   "cell_type": "code",
   "execution_count": 7,
   "metadata": {},
   "outputs": [
    {
     "data": {
      "text/html": [
       "<div>\n",
       "<style scoped>\n",
       "    .dataframe tbody tr th:only-of-type {\n",
       "        vertical-align: middle;\n",
       "    }\n",
       "\n",
       "    .dataframe tbody tr th {\n",
       "        vertical-align: top;\n",
       "    }\n",
       "\n",
       "    .dataframe thead th {\n",
       "        text-align: right;\n",
       "    }\n",
       "</style>\n",
       "<table border=\"1\" class=\"dataframe\">\n",
       "  <thead>\n",
       "    <tr style=\"text-align: right;\">\n",
       "      <th></th>\n",
       "      <th>from_node</th>\n",
       "      <th>to_node</th>\n",
       "    </tr>\n",
       "  </thead>\n",
       "  <tbody>\n",
       "    <tr>\n",
       "      <th>74230</th>\n",
       "      <td>22968725</td>\n",
       "      <td>18335787</td>\n",
       "    </tr>\n",
       "    <tr>\n",
       "      <th>74231</th>\n",
       "      <td>22968725</td>\n",
       "      <td>18336071</td>\n",
       "    </tr>\n",
       "    <tr>\n",
       "      <th>74232</th>\n",
       "      <td>22968725</td>\n",
       "      <td>18337270</td>\n",
       "    </tr>\n",
       "    <tr>\n",
       "      <th>74234</th>\n",
       "      <td>22968725</td>\n",
       "      <td>22687254</td>\n",
       "    </tr>\n",
       "    <tr>\n",
       "      <th>74235</th>\n",
       "      <td>22968725</td>\n",
       "      <td>22688518</td>\n",
       "    </tr>\n",
       "  </tbody>\n",
       "</table>\n",
       "</div>"
      ],
      "text/plain": [
       "       from_node   to_node\n",
       "74230   22968725  18335787\n",
       "74231   22968725  18336071\n",
       "74232   22968725  18337270\n",
       "74234   22968725  22687254\n",
       "74235   22968725  22688518"
      ]
     },
     "execution_count": 7,
     "metadata": {},
     "output_type": "execute_result"
    }
   ],
   "source": [
    "# Filter rows where both columns contain values from the nodelist\n",
    "\n",
    "induced_subgraph = pi3k[pi3k.iloc[:, 0].isin(first_cluster_nodes) & pi3k.iloc[:, 1].isin(first_cluster_nodes)]\n",
    "induced_subgraph.columns = ['from_node', 'to_node']\n",
    "induced_subgraph.head()"
   ]
  },
  {
   "cell_type": "code",
   "execution_count": 8,
   "metadata": {},
   "outputs": [],
   "source": [
    "induced_subgraph.to_csv('/shared/pubmed/data/pi3k_k49_cluster1.tsv', sep='\\t', header=False, index=False)"
   ]
  },
  {
   "cell_type": "markdown",
   "metadata": {},
   "source": [
    "We now have an edgelist tsv for the densest cluster. Now we need BDID values.\n",
    "\n",
    "## Getting BDID Values for PI3K and its Densest Cluster\n",
    "\n",
    "I ran the pipeline script `pipeline/traditional_bdid_networkit.py` on both the induced subgraph and the full network. These are the commands:\n",
    "\n",
    "- `nohup python3 pipeline/traditional_bdid_networkit.py /shared/pubmed/pi3k_pubmed_restricted_el.tsv > nohup_network.out 2> nohup_network.err &`\n",
    "- `nohup python3 pipeline/traditional_bdid_networkit.py /shared/pubmed/data/pi3k_k49_cluster1.tsv > nohup_cluster.out 2> nohup_cluster.err &`\n",
    "- `mv networkit_bdid-2023-11-13-02-38-11.csv /shared/pubmed/data/networkit_bdid-pi3k-k49-cluster.csv`\n",
    "\n",
    "### Defining The Metrics\n",
    "\n",
    "- `fp_int_id`: Node PMID\n",
    "- `cp_level`: Citation count of the node\n",
    "\n",
    "**Breadth/Depth Metrics**\n",
    "- `cp_r_citing_zero`: Number of nodes citing this node that don't cite other nodes citing this node\n",
    "- `cp_r_citing_nonzero`: Number of nodes citing this node that cite other nodes citing this node\n",
    "- `tr_citing`: Total references between papers citing this node\n",
    "\n",
    "**Independence/Dependence Metrics**\n",
    "- `cp_r_cited_zero`: Number of nodes citing this node that don't cite nodes cited by this node\n",
    "- `cp_r_cited_nonzero`: Number of nodes citing this node that cite nodes cited by this node\n",
    "- `tr_cited`: Total references from papers citing this node to papers cited by this node"
   ]
  },
  {
   "cell_type": "code",
   "execution_count": 9,
   "metadata": {},
   "outputs": [
    {
     "data": {
      "text/html": [
       "<div>\n",
       "<style scoped>\n",
       "    .dataframe tbody tr th:only-of-type {\n",
       "        vertical-align: middle;\n",
       "    }\n",
       "\n",
       "    .dataframe tbody tr th {\n",
       "        vertical-align: top;\n",
       "    }\n",
       "\n",
       "    .dataframe thead th {\n",
       "        text-align: right;\n",
       "    }\n",
       "</style>\n",
       "<table border=\"1\" class=\"dataframe\">\n",
       "  <thead>\n",
       "    <tr style=\"text-align: right;\">\n",
       "      <th></th>\n",
       "      <th>fp_int_id</th>\n",
       "      <th>cp_level</th>\n",
       "      <th>cp_r_citing_zero</th>\n",
       "      <th>cp_r_citing_nonzero</th>\n",
       "      <th>tr_citing</th>\n",
       "      <th>cp_r_cited_zero</th>\n",
       "      <th>cp_r_cited_nonzero</th>\n",
       "      <th>tr_cited</th>\n",
       "    </tr>\n",
       "  </thead>\n",
       "  <tbody>\n",
       "    <tr>\n",
       "      <th>0</th>\n",
       "      <td>22968725</td>\n",
       "      <td>46</td>\n",
       "      <td>12</td>\n",
       "      <td>34</td>\n",
       "      <td>178</td>\n",
       "      <td>0</td>\n",
       "      <td>46</td>\n",
       "      <td>614</td>\n",
       "    </tr>\n",
       "    <tr>\n",
       "      <th>1</th>\n",
       "      <td>18335787</td>\n",
       "      <td>347</td>\n",
       "      <td>6</td>\n",
       "      <td>341</td>\n",
       "      <td>8629</td>\n",
       "      <td>1</td>\n",
       "      <td>346</td>\n",
       "      <td>2878</td>\n",
       "    </tr>\n",
       "    <tr>\n",
       "      <th>2</th>\n",
       "      <td>18336071</td>\n",
       "      <td>243</td>\n",
       "      <td>8</td>\n",
       "      <td>235</td>\n",
       "      <td>4090</td>\n",
       "      <td>0</td>\n",
       "      <td>243</td>\n",
       "      <td>1443</td>\n",
       "    </tr>\n",
       "    <tr>\n",
       "      <th>3</th>\n",
       "      <td>18337270</td>\n",
       "      <td>87</td>\n",
       "      <td>16</td>\n",
       "      <td>71</td>\n",
       "      <td>398</td>\n",
       "      <td>1</td>\n",
       "      <td>86</td>\n",
       "      <td>480</td>\n",
       "    </tr>\n",
       "    <tr>\n",
       "      <th>4</th>\n",
       "      <td>22687254</td>\n",
       "      <td>396</td>\n",
       "      <td>5</td>\n",
       "      <td>391</td>\n",
       "      <td>12136</td>\n",
       "      <td>6</td>\n",
       "      <td>390</td>\n",
       "      <td>1213</td>\n",
       "    </tr>\n",
       "  </tbody>\n",
       "</table>\n",
       "</div>"
      ],
      "text/plain": [
       "   fp_int_id  cp_level  cp_r_citing_zero  cp_r_citing_nonzero  tr_citing  \\\n",
       "0   22968725        46                12                   34        178   \n",
       "1   18335787       347                 6                  341       8629   \n",
       "2   18336071       243                 8                  235       4090   \n",
       "3   18337270        87                16                   71        398   \n",
       "4   22687254       396                 5                  391      12136   \n",
       "\n",
       "   cp_r_cited_zero  cp_r_cited_nonzero  tr_cited  \n",
       "0                0                  46       614  \n",
       "1                1                 346      2878  \n",
       "2                0                 243      1443  \n",
       "3                1                  86       480  \n",
       "4                6                 390      1213  "
      ]
     },
     "execution_count": 9,
     "metadata": {},
     "output_type": "execute_result"
    }
   ],
   "source": [
    "# These metrics are relative to the densest cluster\n",
    "pi3k_k49_bdid = pd.read_csv('/shared/pubmed/data/networkit_bdid-pi3k-k49-cluster.csv')\n",
    "pi3k_k49_bdid = pi3k_k49_bdid.dropna()\n",
    "pi3k_k49_bdid.head()"
   ]
  },
  {
   "cell_type": "code",
   "execution_count": 10,
   "metadata": {},
   "outputs": [
    {
     "data": {
      "text/html": [
       "<div>\n",
       "<style scoped>\n",
       "    .dataframe tbody tr th:only-of-type {\n",
       "        vertical-align: middle;\n",
       "    }\n",
       "\n",
       "    .dataframe tbody tr th {\n",
       "        vertical-align: top;\n",
       "    }\n",
       "\n",
       "    .dataframe thead th {\n",
       "        text-align: right;\n",
       "    }\n",
       "</style>\n",
       "<table border=\"1\" class=\"dataframe\">\n",
       "  <thead>\n",
       "    <tr style=\"text-align: right;\">\n",
       "      <th></th>\n",
       "      <th>fp_int_id</th>\n",
       "      <th>cp_level</th>\n",
       "      <th>cp_r_citing_zero</th>\n",
       "      <th>cp_r_citing_nonzero</th>\n",
       "      <th>tr_citing</th>\n",
       "      <th>cp_r_cited_zero</th>\n",
       "      <th>cp_r_cited_nonzero</th>\n",
       "      <th>tr_cited</th>\n",
       "    </tr>\n",
       "  </thead>\n",
       "  <tbody>\n",
       "    <tr>\n",
       "      <th>0</th>\n",
       "      <td>22956746</td>\n",
       "      <td>0</td>\n",
       "      <td>0</td>\n",
       "      <td>0</td>\n",
       "      <td>0</td>\n",
       "      <td>0</td>\n",
       "      <td>0</td>\n",
       "      <td>0</td>\n",
       "    </tr>\n",
       "    <tr>\n",
       "      <th>1</th>\n",
       "      <td>53890765</td>\n",
       "      <td>493</td>\n",
       "      <td>294</td>\n",
       "      <td>199</td>\n",
       "      <td>331</td>\n",
       "      <td>253</td>\n",
       "      <td>240</td>\n",
       "      <td>443</td>\n",
       "    </tr>\n",
       "    <tr>\n",
       "      <th>2</th>\n",
       "      <td>55108116</td>\n",
       "      <td>493</td>\n",
       "      <td>82</td>\n",
       "      <td>411</td>\n",
       "      <td>1709</td>\n",
       "      <td>232</td>\n",
       "      <td>261</td>\n",
       "      <td>373</td>\n",
       "    </tr>\n",
       "    <tr>\n",
       "      <th>3</th>\n",
       "      <td>57892820</td>\n",
       "      <td>2529</td>\n",
       "      <td>271</td>\n",
       "      <td>2258</td>\n",
       "      <td>13171</td>\n",
       "      <td>2277</td>\n",
       "      <td>252</td>\n",
       "      <td>272</td>\n",
       "    </tr>\n",
       "    <tr>\n",
       "      <th>4</th>\n",
       "      <td>22956750</td>\n",
       "      <td>2</td>\n",
       "      <td>2</td>\n",
       "      <td>0</td>\n",
       "      <td>0</td>\n",
       "      <td>2</td>\n",
       "      <td>0</td>\n",
       "      <td>0</td>\n",
       "    </tr>\n",
       "  </tbody>\n",
       "</table>\n",
       "</div>"
      ],
      "text/plain": [
       "   fp_int_id  cp_level  cp_r_citing_zero  cp_r_citing_nonzero  tr_citing  \\\n",
       "0   22956746         0                 0                    0          0   \n",
       "1   53890765       493               294                  199        331   \n",
       "2   55108116       493                82                  411       1709   \n",
       "3   57892820      2529               271                 2258      13171   \n",
       "4   22956750         2                 2                    0          0   \n",
       "\n",
       "   cp_r_cited_zero  cp_r_cited_nonzero  tr_cited  \n",
       "0                0                   0         0  \n",
       "1              253                 240       443  \n",
       "2              232                 261       373  \n",
       "3             2277                 252       272  \n",
       "4                2                   0         0  "
      ]
     },
     "execution_count": 10,
     "metadata": {},
     "output_type": "execute_result"
    }
   ],
   "source": [
    "# These metrics are relative to the entire network\n",
    "pi3k_full_network_bdid = pd.read_csv('/shared/pubmed/data/networkit_bdid-pi3k-network.csv')\n",
    "pi3k_full_network_bdid = pi3k_full_network_bdid.dropna()\n",
    "pi3k_full_network_bdid.head()"
   ]
  },
  {
   "cell_type": "markdown",
   "metadata": {},
   "source": [
    "## Comparing Breadth/Depth Metrics\n",
    "\n",
    "In these comparison tests, we will try two approaches to comparison. On both approaches we will be taking the distribution of scores from the cluster and comparing it to:\n",
    "1. BDID of the same nodes with respect to the network.\n",
    "2. BDID of randomly sampled nodes with similar network degree, but not part of the cluster. Compare distributions of BDID scores with respect to the network. I wont be doing anything with respect to the cluster.\n",
    "\n",
    "### Approach 1.\n",
    "\n",
    "We take the same nodes that appear in the cluster, but compare them to their metrics with respect to the network."
   ]
  },
  {
   "cell_type": "code",
   "execution_count": 11,
   "metadata": {},
   "outputs": [
    {
     "name": "stdout",
     "output_type": "stream",
     "text": [
      "0 419\n",
      "0 27\n",
      "0 15528\n",
      "0 425\n"
     ]
    }
   ],
   "source": [
    "cluster_citing_zero = pi3k_k49_bdid['cp_r_citing_zero'].tolist()\n",
    "cluster_citing_nonzero = pi3k_k49_bdid['cp_r_citing_nonzero'].tolist()\n",
    "cluster_citing_tr = pi3k_k49_bdid['tr_citing'].tolist()\n",
    "cluster_cp = pi3k_k49_bdid['cp_level'].tolist()\n",
    "\n",
    "print(min(cluster_citing_nonzero), max(cluster_citing_nonzero))\n",
    "print(min(cluster_citing_zero), max(cluster_citing_zero))\n",
    "print(min(cluster_citing_tr), max(cluster_citing_tr))\n",
    "print(min(cluster_cp), max(cluster_cp))"
   ]
  },
  {
   "cell_type": "code",
   "execution_count": 12,
   "metadata": {},
   "outputs": [
    {
     "name": "stdout",
     "output_type": "stream",
     "text": [
      "0 2175\n",
      "0 236\n",
      "0 52933\n",
      "0 2226\n"
     ]
    }
   ],
   "source": [
    "app1_network = pi3k_full_network_bdid[pi3k_full_network_bdid['fp_int_id'].isin(pi3k_k49_bdid['fp_int_id'])]\n",
    "app1_citing_zero = app1_network['cp_r_citing_zero'].tolist()\n",
    "app1_citing_nonzero = app1_network['cp_r_citing_nonzero'].tolist()\n",
    "app1_citing_tr = app1_network['tr_citing'].tolist()\n",
    "app1_cp = app1_network['cp_level'].tolist()\n",
    "\n",
    "print(min(app1_citing_nonzero), max(app1_citing_nonzero))\n",
    "print(min(app1_citing_zero), max(app1_citing_zero))\n",
    "print(min(app1_citing_tr), max(app1_citing_tr))\n",
    "print(min(app1_cp), max(app1_cp))"
   ]
  },
  {
   "cell_type": "code",
   "execution_count": 13,
   "metadata": {},
   "outputs": [
    {
     "data": {
      "text/html": [
       "<div>\n",
       "<style scoped>\n",
       "    .dataframe tbody tr th:only-of-type {\n",
       "        vertical-align: middle;\n",
       "    }\n",
       "\n",
       "    .dataframe tbody tr th {\n",
       "        vertical-align: top;\n",
       "    }\n",
       "\n",
       "    .dataframe thead th {\n",
       "        text-align: right;\n",
       "    }\n",
       "</style>\n",
       "<table border=\"1\" class=\"dataframe\">\n",
       "  <thead>\n",
       "    <tr style=\"text-align: right;\">\n",
       "      <th></th>\n",
       "      <th>fp_int_id</th>\n",
       "      <th>cp_level</th>\n",
       "      <th>cp_r_citing_zero</th>\n",
       "      <th>cp_r_citing_nonzero</th>\n",
       "      <th>tr_citing</th>\n",
       "      <th>cp_r_cited_zero</th>\n",
       "      <th>cp_r_cited_nonzero</th>\n",
       "      <th>tr_cited</th>\n",
       "    </tr>\n",
       "  </thead>\n",
       "  <tbody>\n",
       "    <tr>\n",
       "      <th>40229</th>\n",
       "      <td>18337270</td>\n",
       "      <td>333</td>\n",
       "      <td>68</td>\n",
       "      <td>265</td>\n",
       "      <td>1351</td>\n",
       "      <td>38</td>\n",
       "      <td>295</td>\n",
       "      <td>1169</td>\n",
       "    </tr>\n",
       "    <tr>\n",
       "      <th>40479</th>\n",
       "      <td>31255140</td>\n",
       "      <td>186</td>\n",
       "      <td>53</td>\n",
       "      <td>133</td>\n",
       "      <td>469</td>\n",
       "      <td>9</td>\n",
       "      <td>177</td>\n",
       "      <td>1647</td>\n",
       "    </tr>\n",
       "    <tr>\n",
       "      <th>40823</th>\n",
       "      <td>22968725</td>\n",
       "      <td>162</td>\n",
       "      <td>38</td>\n",
       "      <td>124</td>\n",
       "      <td>661</td>\n",
       "      <td>10</td>\n",
       "      <td>152</td>\n",
       "      <td>1393</td>\n",
       "    </tr>\n",
       "    <tr>\n",
       "      <th>40825</th>\n",
       "      <td>18335787</td>\n",
       "      <td>1477</td>\n",
       "      <td>50</td>\n",
       "      <td>1427</td>\n",
       "      <td>24989</td>\n",
       "      <td>105</td>\n",
       "      <td>1372</td>\n",
       "      <td>7832</td>\n",
       "    </tr>\n",
       "    <tr>\n",
       "      <th>40826</th>\n",
       "      <td>18336071</td>\n",
       "      <td>898</td>\n",
       "      <td>58</td>\n",
       "      <td>840</td>\n",
       "      <td>9531</td>\n",
       "      <td>119</td>\n",
       "      <td>779</td>\n",
       "      <td>3338</td>\n",
       "    </tr>\n",
       "  </tbody>\n",
       "</table>\n",
       "</div>"
      ],
      "text/plain": [
       "       fp_int_id  cp_level  cp_r_citing_zero  cp_r_citing_nonzero  tr_citing  \\\n",
       "40229   18337270       333                68                  265       1351   \n",
       "40479   31255140       186                53                  133        469   \n",
       "40823   22968725       162                38                  124        661   \n",
       "40825   18335787      1477                50                 1427      24989   \n",
       "40826   18336071       898                58                  840       9531   \n",
       "\n",
       "       cp_r_cited_zero  cp_r_cited_nonzero  tr_cited  \n",
       "40229               38                 295      1169  \n",
       "40479                9                 177      1647  \n",
       "40823               10                 152      1393  \n",
       "40825              105                1372      7832  \n",
       "40826              119                 779      3338  "
      ]
     },
     "execution_count": 13,
     "metadata": {},
     "output_type": "execute_result"
    }
   ],
   "source": [
    "app1_network.head()"
   ]
  },
  {
   "cell_type": "code",
   "execution_count": 14,
   "metadata": {},
   "outputs": [
    {
     "data": {
      "image/png": "[encoded data removed]",
      "text/plain": [
       "<Figure size 864x432 with 8 Axes>"
      ]
     },
     "metadata": {
      "needs_background": "light"
     },
     "output_type": "display_data"
    }
   ],
   "source": [
    "import matplotlib.pyplot as plt\n",
    "import numpy as np\n",
    "\n",
    "\n",
    "# Create a 2x4 grid of histograms\n",
    "fig, axes = plt.subplots(nrows=2, ncols=4, figsize=(12, 6))\n",
    "\n",
    "# Flatten the 2D array of subplots into a 1D array\n",
    "axes = axes.flatten()\n",
    "\n",
    "# Plot histograms in each subplot\n",
    "axes[0].hist(cluster_cp, bins=20, range=(0, 2200), color='blue', alpha=0.7)\n",
    "axes[1].hist(cluster_citing_zero, bins=20, range=(0, 240), color='blue', alpha=0.7)\n",
    "axes[2].hist(cluster_citing_nonzero, bins=20,range=(0, 1000), color='blue', alpha=0.7)\n",
    "axes[3].hist(cluster_citing_tr, bins=20, range=(0, 2300), color='blue', alpha=0.7)\n",
    "\n",
    "axes[4].hist(app1_cp, bins=20, range=(0, 2200), color='blue', alpha=0.7)\n",
    "axes[5].hist(app1_citing_zero, bins=20, range=(0, 240), color='blue', alpha=0.7)\n",
    "axes[6].hist(app1_citing_nonzero, bins=20, range=(0, 1000), color='blue', alpha=0.7)\n",
    "axes[7].hist(app1_citing_tr, bins=20, range=(0, 2300), color='blue', alpha=0.7)\n",
    "\n",
    "col_titles = ['cp', 'cp(r[citing] = 0)', 'cp(r[citing] > 0)', 'tr[citing]']\n",
    "\n",
    "# Add labels and title\n",
    "for i, ax in enumerate(axes):\n",
    "    if i <= 3:\n",
    "        ax.set_title(col_titles[i])\n",
    "    if (i == 0):\n",
    "        ax.set_ylabel('Cluster')\n",
    "    elif (i == 4):\n",
    "        ax.set_ylabel('Network (Same nodes)')\n",
    "\n",
    "# Adjust layout for better spacing\n",
    "plt.tight_layout()\n",
    "\n",
    "# Show the plot\n",
    "plt.show()\n"
   ]
  },
  {
   "cell_type": "markdown",
   "metadata": {},
   "source": [
    "It looks like there is a lot of difference due to differences in citations that will occur naturally when the dataset is constrained. However, we do see higher differences in `cp(r[citing] = 0)`'s difference, and more similarity in the other breadth/depth metrics.\n",
    "\n",
    "This could potentially be explained by the fact that those outside the subfield may use a single bit of information from the paper, without needing more info from related papers. Therefore, they will not cite other papers citing the publication.\n",
    "\n",
    "We should favor an approach that doesn't have this confounding variable that is the citation count. Hence, we should use relative indicators that normalize by the cp. \n",
    "\n",
    "**I am not considering publications with cp=0 since the normalized values will be 0/0 and therefore undefined.**"
   ]
  },
  {
   "cell_type": "code",
   "execution_count": 15,
   "metadata": {},
   "outputs": [
    {
     "data": {
      "image/png": "[encoded data removed]",
      "text/plain": [
       "<Figure size 864x432 with 6 Axes>"
      ]
     },
     "metadata": {
      "needs_background": "light"
     },
     "output_type": "display_data"
    }
   ],
   "source": [
    "from scipy.stats import skew\n",
    "\n",
    "cluster_citing_zero_norm = (pi3k_k49_bdid['cp_r_citing_zero']/pi3k_k49_bdid['cp_level']).tolist()\n",
    "cluster_citing_nonzero_norm = (pi3k_k49_bdid['cp_r_citing_nonzero']/pi3k_k49_bdid['cp_level']).tolist()\n",
    "cluster_citing_mr = (pi3k_k49_bdid['tr_citing']/pi3k_k49_bdid['cp_level']).tolist()\n",
    "\n",
    "app1_citing_zero_norm = (app1_network['cp_r_citing_zero']/app1_network['cp_level']).tolist()\n",
    "app1_citing_nonzero_norm = (app1_network['cp_r_citing_nonzero']/app1_network['cp_level']).tolist()\n",
    "app1_citing_mr = (app1_network['tr_citing']/app1_network['cp_level']).tolist()\n",
    "\n",
    "datasets = [\n",
    "    cluster_citing_zero_norm,\n",
    "    cluster_citing_nonzero_norm,\n",
    "    cluster_citing_mr,\n",
    "    app1_citing_zero_norm,\n",
    "    app1_citing_nonzero_norm,\n",
    "    app1_citing_mr\n",
    "]\n",
    "\n",
    "replace_nan = lambda l : [x for x in l if not np.isnan(x)]\n",
    "datasets = [replace_nan(dataset) for dataset in datasets]\n",
    "\n",
    "# Create a 2x4 grid of histograms\n",
    "fig, axes = plt.subplots(nrows=2, ncols=3, figsize=(12, 6))\n",
    "\n",
    "# Flatten the 2D array of subplots into a 1D array\n",
    "axes = axes.flatten()\n",
    "\n",
    "# Plot histograms in each subplot\n",
    "for i, _ in enumerate(axes):\n",
    "    axes[i].hist(datasets[i], bins=20, color='blue', alpha=0.7)\n",
    "\n",
    "col_titles = ['pcp(r[citing] = 0)', 'pcp(r[citing] > 0)', 'mr[citing]']\n",
    "\n",
    "# Add labels and title\n",
    "for i, ax in enumerate(axes):\n",
    "    if i <= 2:\n",
    "        ax.set_title(col_titles[i])\n",
    "    if (i == 0):\n",
    "        ax.set_ylabel('Cluster')\n",
    "    elif (i == 3):\n",
    "        ax.set_ylabel('Network (Same nodes)')\n",
    "        \n",
    "    ax.set_xlabel(f'Skew={round(skew(datasets[i]), 2)}')\n",
    "\n",
    "# Adjust layout for better spacing\n",
    "plt.tight_layout()\n",
    "\n",
    "# Show the plot\n",
    "plt.show()"
   ]
  },
  {
   "cell_type": "markdown",
   "metadata": {},
   "source": [
    "Within the cluster, nodes have a much higher skew for breadth/depth metrics. We observe a more right skew in zero citing and a more left skew in nonzero citing. This suggests that lower breadth and higher depth is favored within a dense cluster vs with respect to a network.\n",
    "\n",
    "However, we see that in the left plots we have a spike at 1, and in the right plots we have a spike of 0. This means that for those publications, no paper citing them cited each other. *Hypothesis: These exist at the edge of the cluster*, especially since there is a lower number of such papers at the network level (~ 80) than at the cluster level (~ 100).\n",
    "\n",
    "Now let's see where the spike at Depth=0 is within the cluster. We will plot depth vs. mr[citing] for nodes within the cluster:"
   ]
  },
  {
   "cell_type": "code",
   "execution_count": 16,
   "metadata": {},
   "outputs": [
    {
     "data": {
      "image/png": "[encoded data removed]",
      "text/plain": [
       "<Figure size 576x432 with 2 Axes>"
      ]
     },
     "metadata": {
      "needs_background": "light"
     },
     "output_type": "display_data"
    }
   ],
   "source": [
    "from scipy.stats import gaussian_kde\n",
    "\n",
    "cluster_citing_nonzero_norm2 = np.array(cluster_citing_nonzero_norm)\n",
    "cluster_citing_cps2 = np.array(pi3k_k49_bdid['cp_level'].tolist())\n",
    "\n",
    "valid_indices = ~np.isnan(cluster_citing_nonzero_norm2)\n",
    "cluster_citing_nonzero_norm2 = cluster_citing_nonzero_norm2[valid_indices]\n",
    "cluster_citing_cps2 = cluster_citing_cps2[valid_indices]\n",
    "\n",
    "# https://stackoverflow.com/questions/20105364/how-can-i-make-a-scatter-plot-colored-by-density\n",
    "xy = np.vstack([cluster_citing_nonzero_norm2, cluster_citing_cps2])\n",
    "z = gaussian_kde(xy)(xy)\n",
    "\n",
    "# Scatter plot with color mapping based on density\n",
    "plt.figure(figsize=(8, 6))\n",
    "\n",
    "scatter = plt.scatter(cluster_citing_nonzero_norm2, cluster_citing_cps2, c=z, cmap='viridis', edgecolors='black', linewidth=0.01)\n",
    "\n",
    "# Customize plot appearance\n",
    "plt.title('citation count vs pcp(r[citing]>0)')\n",
    "plt.xlabel('pcp(r[citing]>0)')\n",
    "plt.ylabel('citation count')\n",
    "plt.grid(True)\n",
    "plt.colorbar(scatter, label='Density')\n",
    "\n",
    "# Show the plot\n",
    "plt.show()"
   ]
  },
  {
   "cell_type": "markdown",
   "metadata": {},
   "source": [
    "### Approach 2.\n",
    "\n",
    "We will sample other nodes from outside the cluster that have a network degree similar to the nodes in the cluster. First, lets look at the degree distribution within the cluster."
   ]
  },
  {
   "cell_type": "code",
   "execution_count": 17,
   "metadata": {},
   "outputs": [
    {
     "data": {
      "text/html": [
       "<div>\n",
       "<style scoped>\n",
       "    .dataframe tbody tr th:only-of-type {\n",
       "        vertical-align: middle;\n",
       "    }\n",
       "\n",
       "    .dataframe tbody tr th {\n",
       "        vertical-align: top;\n",
       "    }\n",
       "\n",
       "    .dataframe thead th {\n",
       "        text-align: right;\n",
       "    }\n",
       "</style>\n",
       "<table border=\"1\" class=\"dataframe\">\n",
       "  <thead>\n",
       "    <tr style=\"text-align: right;\">\n",
       "      <th></th>\n",
       "      <th>node_id</th>\n",
       "      <th>in_deg</th>\n",
       "      <th>out_deg</th>\n",
       "      <th>total_degree</th>\n",
       "    </tr>\n",
       "  </thead>\n",
       "  <tbody>\n",
       "    <tr>\n",
       "      <th>0</th>\n",
       "      <td>13</td>\n",
       "      <td>8</td>\n",
       "      <td>0</td>\n",
       "      <td>8</td>\n",
       "    </tr>\n",
       "    <tr>\n",
       "      <th>1</th>\n",
       "      <td>14</td>\n",
       "      <td>3</td>\n",
       "      <td>0</td>\n",
       "      <td>3</td>\n",
       "    </tr>\n",
       "    <tr>\n",
       "      <th>2</th>\n",
       "      <td>16</td>\n",
       "      <td>353</td>\n",
       "      <td>0</td>\n",
       "      <td>353</td>\n",
       "    </tr>\n",
       "    <tr>\n",
       "      <th>3</th>\n",
       "      <td>19</td>\n",
       "      <td>7</td>\n",
       "      <td>0</td>\n",
       "      <td>7</td>\n",
       "    </tr>\n",
       "    <tr>\n",
       "      <th>4</th>\n",
       "      <td>24</td>\n",
       "      <td>67</td>\n",
       "      <td>0</td>\n",
       "      <td>67</td>\n",
       "    </tr>\n",
       "  </tbody>\n",
       "</table>\n",
       "</div>"
      ],
      "text/plain": [
       "   node_id  in_deg  out_deg  total_degree\n",
       "0       13       8        0             8\n",
       "1       14       3        0             3\n",
       "2       16     353        0           353\n",
       "3       19       7        0             7\n",
       "4       24      67        0            67"
      ]
     },
     "execution_count": 17,
     "metadata": {},
     "output_type": "execute_result"
    }
   ],
   "source": [
    "pi3k_degrees = pd.read_csv('/shared/pubmed/pi3k_pubmed_restricted_nl_degree_counts.csv')\n",
    "pi3k_degrees.head()"
   ]
  },
  {
   "cell_type": "markdown",
   "metadata": {},
   "source": [
    "## Comparing Independence and Dependence\n",
    "\n",
    "### Approach 1.\n",
    "\n",
    "We will use normalized values."
   ]
  },
  {
   "cell_type": "code",
   "execution_count": 18,
   "metadata": {},
   "outputs": [
    {
     "data": {
      "image/png": "[encoded data removed]",
      "text/plain": [
       "<Figure size 864x432 with 6 Axes>"
      ]
     },
     "metadata": {
      "needs_background": "light"
     },
     "output_type": "display_data"
    }
   ],
   "source": [
    "from scipy.stats import skew\n",
    "\n",
    "cluster_cited_zero_norm = (pi3k_k49_bdid['cp_r_cited_zero']/pi3k_k49_bdid['cp_level']).tolist()\n",
    "cluster_cited_nonzero_norm = (pi3k_k49_bdid['cp_r_cited_nonzero']/pi3k_k49_bdid['cp_level']).tolist()\n",
    "cluster_cited_mr = (pi3k_k49_bdid['tr_cited']/pi3k_k49_bdid['cp_level']).tolist()\n",
    "\n",
    "app1_cited_zero_norm = (app1_network['cp_r_cited_zero']/app1_network['cp_level']).tolist()\n",
    "app1_cited_nonzero_norm = (app1_network['cp_r_cited_nonzero']/app1_network['cp_level']).tolist()\n",
    "app1_cited_mr = (app1_network['tr_cited']/app1_network['cp_level']).tolist()\n",
    "\n",
    "datasets = [\n",
    "    cluster_cited_zero_norm,\n",
    "    cluster_cited_nonzero_norm,\n",
    "    cluster_cited_mr,\n",
    "    app1_cited_zero_norm,\n",
    "    app1_cited_nonzero_norm,\n",
    "    app1_cited_mr\n",
    "]\n",
    "\n",
    "replace_nan = lambda l : [x for x in l if not np.isnan(x)]\n",
    "datasets = [replace_nan(dataset) for dataset in datasets]\n",
    "\n",
    "# Create a 2x4 grid of histograms\n",
    "fig, axes = plt.subplots(nrows=2, ncols=3, figsize=(12, 6))\n",
    "\n",
    "# Flatten the 2D array of subplots into a 1D array\n",
    "axes = axes.flatten()\n",
    "\n",
    "# Plot histograms in each subplot\n",
    "for i, _ in enumerate(axes):\n",
    "    axes[i].hist(datasets[i], bins=20, color='blue', alpha=0.7)\n",
    "\n",
    "col_titles = ['pcp(r[cited] = 0)', 'pcp(r[cited] > 0)', 'mr[cited]']\n",
    "\n",
    "# Add labels and title\n",
    "for i, ax in enumerate(axes):\n",
    "    if i <= 2:\n",
    "        ax.set_title(col_titles[i])\n",
    "    if (i == 0):\n",
    "        ax.set_ylabel('Cluster')\n",
    "    elif (i == 3):\n",
    "        ax.set_ylabel('Network (Same nodes)')\n",
    "        \n",
    "    ax.set_xlabel(f'Skew={round(skew(datasets[i]), 2)}')\n",
    "\n",
    "# Adjust layout for better spacing\n",
    "plt.tight_layout()\n",
    "\n",
    "# Show the plot\n",
    "plt.show()"
   ]
  },
  {
   "cell_type": "code",
   "execution_count": 19,
   "metadata": {},
   "outputs": [
    {
     "data": {
      "image/png": "[encoded data removed]",
      "text/plain": [
       "<Figure size 576x432 with 2 Axes>"
      ]
     },
     "metadata": {
      "needs_background": "light"
     },
     "output_type": "display_data"
    }
   ],
   "source": [
    "from scipy.stats import gaussian_kde\n",
    "\n",
    "cluster_cited_nonzero_norm2 = np.array(cluster_cited_nonzero_norm)\n",
    "cluster_cited_cps2 = np.array(pi3k_k49_bdid['cp_level'].tolist())\n",
    "\n",
    "valid_indices = ~np.isnan(cluster_cited_nonzero_norm2)\n",
    "cluster_cited_nonzero_norm2 = cluster_cited_nonzero_norm2[valid_indices]\n",
    "cluster_cited_cps2 = cluster_cited_cps2[valid_indices]\n",
    "\n",
    "# https://stackoverflow.com/questions/20105364/how-can-i-make-a-scatter-plot-colored-by-density\n",
    "xy = np.vstack([cluster_cited_nonzero_norm2, cluster_cited_cps2])\n",
    "z = gaussian_kde(xy)(xy)\n",
    "\n",
    "# Scatter plot with color mapping based on density\n",
    "plt.figure(figsize=(8, 6))\n",
    "\n",
    "scatter = plt.scatter(cluster_cited_nonzero_norm2, cluster_cited_cps2, c=z, cmap='viridis', edgecolors='black', linewidth=0.01)\n",
    "\n",
    "# Customize plot appearance\n",
    "plt.title('citation count vs pcp(r[cited]>0)')\n",
    "plt.xlabel('pcp(r[cited]>0)')\n",
    "plt.ylabel('citation count')\n",
    "plt.grid(True)\n",
    "plt.colorbar(scatter, label='Density')\n",
    "\n",
    "# Show the plot\n",
    "plt.show()"
   ]
  },
  {
   "cell_type": "code",
   "execution_count": null,
   "metadata": {},
   "outputs": [],
   "source": []
  }
 ],
 "metadata": {
  "kernelspec": {
   "display_name": "Python 3 (ipykernel)",
   "language": "python",
   "name": "python3"
  },
  "language_info": {
   "codemirror_mode": {
    "name": "ipython",
    "version": 3
   },
   "file_extension": ".py",
   "mimetype": "text/x-python",
   "name": "python",
   "nbconvert_exporter": "python",
   "pygments_lexer": "ipython3",
   "version": "3.10.0"
  }
 },
 "nbformat": 4,
 "nbformat_minor": 2
}

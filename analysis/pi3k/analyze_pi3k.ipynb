{
 "cells": [
  {
   "cell_type": "markdown",
   "metadata": {},
   "source": [
    "# Analyzing the Phosphoinositide 3-Kinase (PI3K) Research Network\n",
    "  \n",
    "Phosphoinositide 3-Kinase (PI3K) is an enzyme involved with cell growth and motility, and is involved in cancer. In this notebook we will be applying Bu et. al.'s metrics both relative to the research network surrounding PI-3K as well as the detected sub-communities within the research network. We hope to identify publications that play a central role in the growth of the field.\n",
    "\n",
    "# Data\n",
    "\n",
    "## Starting Data\n",
    "\n",
    "- PI3K Network: `/shared/pubmed/pi3k_pubmed_restricted_el.csv`\n",
    "- PI3K Node-ID to DOI Mappings: `/shared/pubmed/pmid_doi.csv`\n",
    "- PI3K Degree Distribution: `/shared/pubmed/pi3k_pubmed_restricted_nl_degree_counts.csv`\n",
    "\n",
    "## Processed Data\n",
    "\n",
    "- PI3K tsv Edgelist: `/shared/pubmed/pi3k_pubmed_restricted_el.tsv`\n",
    "- PI3K IKC-30 Clustering: `/shared/pubmed/data/pi3k_pubmed_ikc30.csv`\n",
    "- PI3K IKC-30 Reformatted Clustering: `/shared/pubmed/data/pi3k_pubmed_ikc30_reformatted.tsv`\n",
    "- PI3K IKC-30 Cluster Statistics: `/shared/pubmed/data/pi3k_pubmed_ikc30_stats.csv`\n",
    "\n",
    "**Collected During Notebook Runtime**\n",
    "\n",
    "- PI3K IKC-30 Densest Cluster: `/shared/pubmed/data/pi3k_k49_cluster1.tsv`\n",
    "\n",
    "# Pre-Processing Steps\n",
    "\n",
    "I did several things before this analysis.\n",
    "\n",
    "## Before Experiment I\n",
    "\n",
    "1. First I changed the edgelist from csv to tsv format. I used the script found in this repository at `formatting_scripts/format_pi3k.py`\n",
    "2. I removed the header by running `tail -n +2 pi3k_pubmed_restricted_el.tsv > pi3k_pubmed_restricted_el2.tsv`\n",
    "3. I deleted `pi3k_pubmed_restricted_el.tsv` and renamed `pi3k_pubmed_restricted_el2.tsv` to `pi3k_pubmed_restricted_el.tsv`\n",
    "4. Then, I clustered the tsv edgelist using IKC-30. I used the script `clustering_scripts/run_ikc.py`\n",
    "5. I reformatted the clustering to be a `node_id` `cluster_id` tsv by running `formatting_scripts/format_pi3k.py`\n",
    "6. Then I collected cluster statistics on the IKC-30 Clustering using [this reporting tool](https://github.com/illinois-or-research-analytics/cm_pipeline/blob/main/scripts/stats.py).\n",
    "\n",
    "# Experiment I\n",
    "\n",
    "## Finding the Densest K-Core Cluster\n",
    "\n",
    "First we collect an IKC-30 clustering. Then, we need to find the most dense clustering. Let's search for the cluster with the highest k value."
   ]
  },
  {
   "cell_type": "code",
   "execution_count": 1,
   "metadata": {},
   "outputs": [
    {
     "data": {
      "text/html": [
       "<div>\n",
       "<style scoped>\n",
       "    .dataframe tbody tr th:only-of-type {\n",
       "        vertical-align: middle;\n",
       "    }\n",
       "\n",
       "    .dataframe tbody tr th {\n",
       "        vertical-align: top;\n",
       "    }\n",
       "\n",
       "    .dataframe thead th {\n",
       "        text-align: right;\n",
       "    }\n",
       "</style>\n",
       "<table border=\"1\" class=\"dataframe\">\n",
       "  <thead>\n",
       "    <tr style=\"text-align: right;\">\n",
       "      <th></th>\n",
       "      <th>18337270</th>\n",
       "      <th>1</th>\n",
       "      <th>49</th>\n",
       "      <th>1.1</th>\n",
       "    </tr>\n",
       "  </thead>\n",
       "  <tbody>\n",
       "    <tr>\n",
       "      <th>0</th>\n",
       "      <td>31255140</td>\n",
       "      <td>1</td>\n",
       "      <td>49</td>\n",
       "      <td>1.0</td>\n",
       "    </tr>\n",
       "    <tr>\n",
       "      <th>1</th>\n",
       "      <td>22968725</td>\n",
       "      <td>1</td>\n",
       "      <td>49</td>\n",
       "      <td>1.0</td>\n",
       "    </tr>\n",
       "    <tr>\n",
       "      <th>2</th>\n",
       "      <td>18335787</td>\n",
       "      <td>1</td>\n",
       "      <td>49</td>\n",
       "      <td>1.0</td>\n",
       "    </tr>\n",
       "    <tr>\n",
       "      <th>3</th>\n",
       "      <td>18336071</td>\n",
       "      <td>1</td>\n",
       "      <td>49</td>\n",
       "      <td>1.0</td>\n",
       "    </tr>\n",
       "    <tr>\n",
       "      <th>4</th>\n",
       "      <td>22687254</td>\n",
       "      <td>1</td>\n",
       "      <td>49</td>\n",
       "      <td>1.0</td>\n",
       "    </tr>\n",
       "  </tbody>\n",
       "</table>\n",
       "</div>"
      ],
      "text/plain": [
       "   18337270  1  49  1.1\n",
       "0  31255140  1  49  1.0\n",
       "1  22968725  1  49  1.0\n",
       "2  18335787  1  49  1.0\n",
       "3  18336071  1  49  1.0\n",
       "4  22687254  1  49  1.0"
      ]
     },
     "execution_count": 1,
     "metadata": {},
     "output_type": "execute_result"
    }
   ],
   "source": [
    "import pandas as pd\n",
    "\n",
    "\n",
    "pi3k_k_vals = pd.read_csv('/shared/pubmed/data/pi3k_pubmed_ikc30.csv')\n",
    "pi3k_k_vals.head()"
   ]
  },
  {
   "cell_type": "code",
   "execution_count": 2,
   "metadata": {},
   "outputs": [
    {
     "name": "stdout",
     "output_type": "stream",
     "text": [
      "49\n"
     ]
    }
   ],
   "source": [
    "# Get the maximum value in column 3\n",
    "max_k = pi3k_k_vals.iloc[:, 2].max()\n",
    "print(max_k)"
   ]
  },
  {
   "cell_type": "markdown",
   "metadata": {},
   "source": [
    "It looks like we are looking at cluster 1 with a k value of 49 as our densest k-core cluster. Let's get stats on it."
   ]
  },
  {
   "cell_type": "code",
   "execution_count": 3,
   "metadata": {},
   "outputs": [
    {
     "data": {
      "text/html": [
       "<div>\n",
       "<style scoped>\n",
       "    .dataframe tbody tr th:only-of-type {\n",
       "        vertical-align: middle;\n",
       "    }\n",
       "\n",
       "    .dataframe tbody tr th {\n",
       "        vertical-align: top;\n",
       "    }\n",
       "\n",
       "    .dataframe thead th {\n",
       "        text-align: right;\n",
       "    }\n",
       "</style>\n",
       "<table border=\"1\" class=\"dataframe\">\n",
       "  <thead>\n",
       "    <tr style=\"text-align: right;\">\n",
       "      <th></th>\n",
       "      <th>cluster</th>\n",
       "      <th>n</th>\n",
       "      <th>m</th>\n",
       "      <th>modularity</th>\n",
       "      <th>connectivity</th>\n",
       "      <th>connectivity_normalized_log10(n)</th>\n",
       "      <th>connectivity_normalized_log2(n)</th>\n",
       "      <th>connectivity_normalized_sqrt(n)/5</th>\n",
       "      <th>conductance</th>\n",
       "    </tr>\n",
       "  </thead>\n",
       "  <tbody>\n",
       "    <tr>\n",
       "      <th>0</th>\n",
       "      <td>1</td>\n",
       "      <td>506</td>\n",
       "      <td>21478</td>\n",
       "      <td>0.000161</td>\n",
       "      <td>49.0</td>\n",
       "      <td>18.120293</td>\n",
       "      <td>5.454752</td>\n",
       "      <td>10.891578</td>\n",
       "      <td>0.681165</td>\n",
       "    </tr>\n",
       "    <tr>\n",
       "      <th>1</th>\n",
       "      <td>2</td>\n",
       "      <td>1397</td>\n",
       "      <td>61110</td>\n",
       "      <td>0.000456</td>\n",
       "      <td>48.0</td>\n",
       "      <td>15.261368</td>\n",
       "      <td>4.594130</td>\n",
       "      <td>6.421153</td>\n",
       "      <td>0.697872</td>\n",
       "    </tr>\n",
       "    <tr>\n",
       "      <th>2</th>\n",
       "      <td>3</td>\n",
       "      <td>2535</td>\n",
       "      <td>107177</td>\n",
       "      <td>0.000798</td>\n",
       "      <td>46.0</td>\n",
       "      <td>13.513601</td>\n",
       "      <td>4.067999</td>\n",
       "      <td>4.568134</td>\n",
       "      <td>0.688377</td>\n",
       "    </tr>\n",
       "    <tr>\n",
       "      <th>3</th>\n",
       "      <td>4</td>\n",
       "      <td>46132</td>\n",
       "      <td>1951190</td>\n",
       "      <td>0.011991</td>\n",
       "      <td>45.0</td>\n",
       "      <td>9.648366</td>\n",
       "      <td>2.904448</td>\n",
       "      <td>1.047566</td>\n",
       "      <td>0.715829</td>\n",
       "    </tr>\n",
       "    <tr>\n",
       "      <th>4</th>\n",
       "      <td>5</td>\n",
       "      <td>896</td>\n",
       "      <td>32370</td>\n",
       "      <td>0.000243</td>\n",
       "      <td>41.0</td>\n",
       "      <td>13.887440</td>\n",
       "      <td>4.180536</td>\n",
       "      <td>6.848569</td>\n",
       "      <td>0.502731</td>\n",
       "    </tr>\n",
       "  </tbody>\n",
       "</table>\n",
       "</div>"
      ],
      "text/plain": [
       "  cluster      n        m  modularity  connectivity  \\\n",
       "0       1    506    21478    0.000161          49.0   \n",
       "1       2   1397    61110    0.000456          48.0   \n",
       "2       3   2535   107177    0.000798          46.0   \n",
       "3       4  46132  1951190    0.011991          45.0   \n",
       "4       5    896    32370    0.000243          41.0   \n",
       "\n",
       "   connectivity_normalized_log10(n)  connectivity_normalized_log2(n)  \\\n",
       "0                         18.120293                         5.454752   \n",
       "1                         15.261368                         4.594130   \n",
       "2                         13.513601                         4.067999   \n",
       "3                          9.648366                         2.904448   \n",
       "4                         13.887440                         4.180536   \n",
       "\n",
       "   connectivity_normalized_sqrt(n)/5  conductance  \n",
       "0                          10.891578     0.681165  \n",
       "1                           6.421153     0.697872  \n",
       "2                           4.568134     0.688377  \n",
       "3                           1.047566     0.715829  \n",
       "4                           6.848569     0.502731  "
      ]
     },
     "execution_count": 3,
     "metadata": {},
     "output_type": "execute_result"
    }
   ],
   "source": [
    "pi3k_cluster_stats = pd.read_csv('/shared/pubmed/data/pi3k_pubmed_ikc30_stats.csv')\n",
    "pi3k_cluster_stats.head()"
   ]
  },
  {
   "cell_type": "markdown",
   "metadata": {},
   "source": [
    "For Experiment I, we are analyzing:\n",
    "  \n",
    "**Cluster 1**\n",
    "- 506 nodes\n",
    "- 21478 edges\n",
    "\n",
    "## Extracting an Edge List from the Cluster\n",
    "\n",
    "Now that we have the cluster nodes, let's get an induced subgraph."
   ]
  },
  {
   "cell_type": "code",
   "execution_count": 4,
   "metadata": {},
   "outputs": [
    {
     "data": {
      "text/html": [
       "<div>\n",
       "<style scoped>\n",
       "    .dataframe tbody tr th:only-of-type {\n",
       "        vertical-align: middle;\n",
       "    }\n",
       "\n",
       "    .dataframe tbody tr th {\n",
       "        vertical-align: top;\n",
       "    }\n",
       "\n",
       "    .dataframe thead th {\n",
       "        text-align: right;\n",
       "    }\n",
       "</style>\n",
       "<table border=\"1\" class=\"dataframe\">\n",
       "  <thead>\n",
       "    <tr style=\"text-align: right;\">\n",
       "      <th></th>\n",
       "      <th>0</th>\n",
       "      <th>1</th>\n",
       "    </tr>\n",
       "  </thead>\n",
       "  <tbody>\n",
       "    <tr>\n",
       "      <th>0</th>\n",
       "      <td>18337270</td>\n",
       "      <td>1</td>\n",
       "    </tr>\n",
       "    <tr>\n",
       "      <th>1</th>\n",
       "      <td>31255140</td>\n",
       "      <td>1</td>\n",
       "    </tr>\n",
       "    <tr>\n",
       "      <th>2</th>\n",
       "      <td>22968725</td>\n",
       "      <td>1</td>\n",
       "    </tr>\n",
       "    <tr>\n",
       "      <th>3</th>\n",
       "      <td>18335787</td>\n",
       "      <td>1</td>\n",
       "    </tr>\n",
       "    <tr>\n",
       "      <th>4</th>\n",
       "      <td>18336071</td>\n",
       "      <td>1</td>\n",
       "    </tr>\n",
       "  </tbody>\n",
       "</table>\n",
       "</div>"
      ],
      "text/plain": [
       "          0  1\n",
       "0  18337270  1\n",
       "1  31255140  1\n",
       "2  22968725  1\n",
       "3  18335787  1\n",
       "4  18336071  1"
      ]
     },
     "execution_count": 4,
     "metadata": {},
     "output_type": "execute_result"
    }
   ],
   "source": [
    "pi3k_ikc30 = pd.read_csv('/shared/pubmed/data/pi3k_pubmed_ikc30_reformatted.tsv', sep='\\t', header=None)\n",
    "\n",
    "pi3k_ikc30.head()"
   ]
  },
  {
   "cell_type": "code",
   "execution_count": 7,
   "metadata": {},
   "outputs": [
    {
     "name": "stdout",
     "output_type": "stream",
     "text": [
      "[18337270, 31255140, 22968725, 18335787, 18336071]\n"
     ]
    }
   ],
   "source": [
    "first_cluster = pi3k_ikc30[pi3k_ikc30.iloc[:, 1] == 1]\n",
    "first_cluster_nodes = first_cluster.iloc[:, 0].tolist()\n",
    "\n",
    "print(first_cluster_nodes[:5])"
   ]
  },
  {
   "cell_type": "code",
   "execution_count": 8,
   "metadata": {},
   "outputs": [
    {
     "data": {
      "text/html": [
       "<div>\n",
       "<style scoped>\n",
       "    .dataframe tbody tr th:only-of-type {\n",
       "        vertical-align: middle;\n",
       "    }\n",
       "\n",
       "    .dataframe tbody tr th {\n",
       "        vertical-align: top;\n",
       "    }\n",
       "\n",
       "    .dataframe thead th {\n",
       "        text-align: right;\n",
       "    }\n",
       "</style>\n",
       "<table border=\"1\" class=\"dataframe\">\n",
       "  <thead>\n",
       "    <tr style=\"text-align: right;\">\n",
       "      <th></th>\n",
       "      <th>0</th>\n",
       "      <th>1</th>\n",
       "    </tr>\n",
       "  </thead>\n",
       "  <tbody>\n",
       "    <tr>\n",
       "      <th>0</th>\n",
       "      <td>22956746</td>\n",
       "      <td>53890765</td>\n",
       "    </tr>\n",
       "    <tr>\n",
       "      <th>1</th>\n",
       "      <td>22956746</td>\n",
       "      <td>55108116</td>\n",
       "    </tr>\n",
       "    <tr>\n",
       "      <th>2</th>\n",
       "      <td>22956746</td>\n",
       "      <td>57892820</td>\n",
       "    </tr>\n",
       "    <tr>\n",
       "      <th>3</th>\n",
       "      <td>22956750</td>\n",
       "      <td>31510512</td>\n",
       "    </tr>\n",
       "    <tr>\n",
       "      <th>4</th>\n",
       "      <td>22956750</td>\n",
       "      <td>40993204</td>\n",
       "    </tr>\n",
       "  </tbody>\n",
       "</table>\n",
       "</div>"
      ],
      "text/plain": [
       "          0         1\n",
       "0  22956746  53890765\n",
       "1  22956746  55108116\n",
       "2  22956746  57892820\n",
       "3  22956750  31510512\n",
       "4  22956750  40993204"
      ]
     },
     "execution_count": 8,
     "metadata": {},
     "output_type": "execute_result"
    }
   ],
   "source": [
    "pi3k = pd.read_csv('/shared/pubmed/pi3k_pubmed_restricted_el.tsv', sep='\\t', header=None)\n",
    "pi3k.head()"
   ]
  },
  {
   "cell_type": "code",
   "execution_count": 10,
   "metadata": {},
   "outputs": [
    {
     "data": {
      "text/html": [
       "<div>\n",
       "<style scoped>\n",
       "    .dataframe tbody tr th:only-of-type {\n",
       "        vertical-align: middle;\n",
       "    }\n",
       "\n",
       "    .dataframe tbody tr th {\n",
       "        vertical-align: top;\n",
       "    }\n",
       "\n",
       "    .dataframe thead th {\n",
       "        text-align: right;\n",
       "    }\n",
       "</style>\n",
       "<table border=\"1\" class=\"dataframe\">\n",
       "  <thead>\n",
       "    <tr style=\"text-align: right;\">\n",
       "      <th></th>\n",
       "      <th>0</th>\n",
       "      <th>1</th>\n",
       "    </tr>\n",
       "  </thead>\n",
       "  <tbody>\n",
       "    <tr>\n",
       "      <th>74230</th>\n",
       "      <td>22968725</td>\n",
       "      <td>18335787</td>\n",
       "    </tr>\n",
       "    <tr>\n",
       "      <th>74231</th>\n",
       "      <td>22968725</td>\n",
       "      <td>18336071</td>\n",
       "    </tr>\n",
       "    <tr>\n",
       "      <th>74232</th>\n",
       "      <td>22968725</td>\n",
       "      <td>18337270</td>\n",
       "    </tr>\n",
       "    <tr>\n",
       "      <th>74234</th>\n",
       "      <td>22968725</td>\n",
       "      <td>22687254</td>\n",
       "    </tr>\n",
       "    <tr>\n",
       "      <th>74235</th>\n",
       "      <td>22968725</td>\n",
       "      <td>22688518</td>\n",
       "    </tr>\n",
       "  </tbody>\n",
       "</table>\n",
       "</div>"
      ],
      "text/plain": [
       "              0         1\n",
       "74230  22968725  18335787\n",
       "74231  22968725  18336071\n",
       "74232  22968725  18337270\n",
       "74234  22968725  22687254\n",
       "74235  22968725  22688518"
      ]
     },
     "execution_count": 10,
     "metadata": {},
     "output_type": "execute_result"
    }
   ],
   "source": [
    "# Filter rows where both columns contain values from the list\n",
    "induced_subgraph = pi3k[pi3k.iloc[:, 0].isin(first_cluster_nodes) & pi3k.iloc[:, 1].isin(first_cluster_nodes)]\n",
    "induced_subgraph.head()"
   ]
  },
  {
   "cell_type": "code",
   "execution_count": 11,
   "metadata": {},
   "outputs": [
    {
     "name": "stdout",
     "output_type": "stream",
     "text": [
      "21478\n"
     ]
    }
   ],
   "source": [
    "print(induced_subgraph.shape[0])"
   ]
  },
  {
   "cell_type": "code",
   "execution_count": 12,
   "metadata": {},
   "outputs": [],
   "source": [
    "induced_subgraph.to_csv('/shared/pubmed/data/pi3k_k49_cluster1.tsv', sep='\\t', header=False, index=False)"
   ]
  },
  {
   "cell_type": "markdown",
   "metadata": {},
   "source": [
    "We now have an edgelist tsv for the densest cluster. Now we need BDID values.\n",
    "\n",
    "## Getting BDID Values for PI3K and its Densest Cluster"
   ]
  },
  {
   "cell_type": "code",
   "execution_count": null,
   "metadata": {},
   "outputs": [],
   "source": []
  }
 ],
 "metadata": {
  "kernelspec": {
   "display_name": "Python 3 (ipykernel)",
   "language": "python",
   "name": "python3"
  },
  "language_info": {
   "codemirror_mode": {
    "name": "ipython",
    "version": 3
   },
   "file_extension": ".py",
   "mimetype": "text/x-python",
   "name": "python",
   "nbconvert_exporter": "python",
   "pygments_lexer": "ipython3",
   "version": "3.10.0"
  }
 },
 "nbformat": 4,
 "nbformat_minor": 2
}

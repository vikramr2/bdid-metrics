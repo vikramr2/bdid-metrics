{
 "cells": [
  {
   "cell_type": "markdown",
   "metadata": {},
   "source": [
    "# Analyzing the Phosphoinositide 3-Kinase Research Network\n",
    "  \n",
    "Phosphoinositide 3-Kinase is an enzyme involved with cell growth and motility, and is involved in cancer. In this notebook we will be applying Bu et. al.'s metrics both relative to the research network surrounding PI-3K as well as the detected sub-communities within the research network. We hope to identify publications that play a central role in the growth of the field.\n",
    "\n",
    "# Data\n",
    "\n",
    "## Starting Data\n",
    "\n",
    "- PI3K Network: `/shared/pubmed/pi3k_pubmed_restricted_el.csv`\n",
    "- PI3K Node-ID to DOI Mappings: `/shared/pubmed/pmid_doi.csv`\n",
    "- PI3K Degree Distribution: `/shared/pubmed/pi3k_pubmed_restricted_nl_degree_counts.csv`\n",
    "\n",
    "## Processed Data\n",
    "\n",
    "- PI3K tsv Edgelist: `/shared/pubmed/pi3k_pubmed_restricted_el.tsv`\n",
    "- PI3K IKC-30 Clustering: `/shared/pubmed/data/pi3k_pubmed_ikc30.csv`\n",
    "- PI3K IKC-30 Reformatted Clustering: `/shared/pubmed/data/pi3k_pubmed_ikc30_reformatted.tsv`\n",
    "\n",
    "# Pre-Processing Steps\n",
    "\n",
    "I did several things before this analysis.\n",
    "\n",
    "## Before Experiment I\n",
    "\n",
    "1. First I changed the edgelist from csv to tsv format. I used the script found in this repository at `formatting_scripts/format_pi3k.py`\n",
    "2. I removed the header by running `tail -n +2 pi3k_pubmed_restricted_el.tsv > pi3k_pubmed_restricted_el2.tsv`\n",
    "3. I deleted `pi3k_pubmed_restricted_el.tsv` and renamed `pi3k_pubmed_restricted_el2.tsv` to `pi3k_pubmed_restricted_el.tsv`\n",
    "4. Then, I clustered the tsv edgelist using IKC-30. I used the script `clustering_scripts/run_ikc.py`\n",
    "5. I reformatted the clustering to be a `node_id` `cluster_id` tsv by running `formatting_scripts/format_pi3k.py`\n",
    "\n",
    "# Experiment I\n",
    "\n",
    "First we collect an IKC-30 clustering. Then, we need to find the most dense clustering. Let's search for the cluster with the highest edge to node ratio."
   ]
  },
  {
   "cell_type": "code",
   "execution_count": null,
   "metadata": {},
   "outputs": [],
   "source": []
  }
 ],
 "metadata": {
  "language_info": {
   "name": "python"
  }
 },
 "nbformat": 4,
 "nbformat_minor": 2
}
